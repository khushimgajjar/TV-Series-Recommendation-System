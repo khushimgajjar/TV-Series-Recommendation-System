{
 "cells": [
  {
   "cell_type": "code",
   "execution_count": 1,
   "id": "0626de2c",
   "metadata": {
    "_cell_guid": "b1076dfc-b9ad-4769-8c92-a6c4dae69d19",
    "_uuid": "8f2839f25d086af736a60e9eeb907d3b93b6e0e5",
    "execution": {
     "iopub.execute_input": "2024-06-09T17:45:51.105782Z",
     "iopub.status.busy": "2024-06-09T17:45:51.105171Z",
     "iopub.status.idle": "2024-06-09T17:45:52.103605Z",
     "shell.execute_reply": "2024-06-09T17:45:52.102242Z"
    },
    "papermill": {
     "duration": 1.01053,
     "end_time": "2024-06-09T17:45:52.106165",
     "exception": false,
     "start_time": "2024-06-09T17:45:51.095635",
     "status": "completed"
    },
    "tags": []
   },
   "outputs": [
    {
     "name": "stdout",
     "output_type": "stream",
     "text": [
      "/kaggle/input/imdb-top-rated-tv-series-dataset/IMDb Top TV Series.csv\n"
     ]
    }
   ],
   "source": [
    "# This Python 3 environment comes with many helpful analytics libraries installed\n",
    "# It is defined by the kaggle/python Docker image: https://github.com/kaggle/docker-python\n",
    "# For example, here's several helpful packages to load\n",
    "\n",
    "import numpy as np # linear algebra\n",
    "import pandas as pd # data processing, CSV file I/O (e.g. pd.read_csv)\n",
    "\n",
    "# Input data files are available in the read-only \"../input/\" directory\n",
    "# For example, running this (by clicking run or pressing Shift+Enter) will list all files under the input directory\n",
    "\n",
    "import os\n",
    "for dirname, _, filenames in os.walk('/kaggle/input'):\n",
    "    for filename in filenames:\n",
    "        print(os.path.join(dirname, filename))\n",
    "\n",
    "# You can write up to 20GB to the current directory (/kaggle/working/) that gets preserved as output when you create a version using \"Save & Run All\" \n",
    "# You can also write temporary files to /kaggle/temp/, but they won't be saved outside of the current session"
   ]
  },
  {
   "cell_type": "code",
   "execution_count": 2,
   "id": "c298f248",
   "metadata": {
    "execution": {
     "iopub.execute_input": "2024-06-09T17:45:52.123710Z",
     "iopub.status.busy": "2024-06-09T17:45:52.123138Z",
     "iopub.status.idle": "2024-06-09T17:45:52.180442Z",
     "shell.execute_reply": "2024-06-09T17:45:52.179264Z"
    },
    "papermill": {
     "duration": 0.069112,
     "end_time": "2024-06-09T17:45:52.182979",
     "exception": false,
     "start_time": "2024-06-09T17:45:52.113867",
     "status": "completed"
    },
    "tags": []
   },
   "outputs": [
    {
     "data": {
      "text/html": [
       "<div>\n",
       "<style scoped>\n",
       "    .dataframe tbody tr th:only-of-type {\n",
       "        vertical-align: middle;\n",
       "    }\n",
       "\n",
       "    .dataframe tbody tr th {\n",
       "        vertical-align: top;\n",
       "    }\n",
       "\n",
       "    .dataframe thead th {\n",
       "        text-align: right;\n",
       "    }\n",
       "</style>\n",
       "<table border=\"1\" class=\"dataframe\">\n",
       "  <thead>\n",
       "    <tr style=\"text-align: right;\">\n",
       "      <th></th>\n",
       "      <th>Title</th>\n",
       "      <th>Year</th>\n",
       "      <th>Parental Rating</th>\n",
       "      <th>Rating</th>\n",
       "      <th>Number of Votes</th>\n",
       "      <th>Description</th>\n",
       "    </tr>\n",
       "  </thead>\n",
       "  <tbody>\n",
       "    <tr>\n",
       "      <th>0</th>\n",
       "      <td>1. Game of Thrones</td>\n",
       "      <td>2011–2019</td>\n",
       "      <td>TV-MA</td>\n",
       "      <td>9.2</td>\n",
       "      <td>2.3M</td>\n",
       "      <td>Nine noble families fight for control over the...</td>\n",
       "    </tr>\n",
       "    <tr>\n",
       "      <th>1</th>\n",
       "      <td>2. Breaking Bad</td>\n",
       "      <td>2008–2013</td>\n",
       "      <td>TV-MA</td>\n",
       "      <td>9.5</td>\n",
       "      <td>2.1M</td>\n",
       "      <td>A chemistry teacher diagnosed with inoperable ...</td>\n",
       "    </tr>\n",
       "    <tr>\n",
       "      <th>2</th>\n",
       "      <td>3. Stranger Things</td>\n",
       "      <td>2016–2025</td>\n",
       "      <td>TV-14</td>\n",
       "      <td>8.7</td>\n",
       "      <td>1.3M</td>\n",
       "      <td>When a young boy vanishes, a small town uncove...</td>\n",
       "    </tr>\n",
       "    <tr>\n",
       "      <th>3</th>\n",
       "      <td>4. Friends</td>\n",
       "      <td>1994–2004</td>\n",
       "      <td>TV-14</td>\n",
       "      <td>8.9</td>\n",
       "      <td>1.1M</td>\n",
       "      <td>Follows the personal and professional lives of...</td>\n",
       "    </tr>\n",
       "    <tr>\n",
       "      <th>4</th>\n",
       "      <td>5. The Walking Dead</td>\n",
       "      <td>2010–2022</td>\n",
       "      <td>TV-MA</td>\n",
       "      <td>8.1</td>\n",
       "      <td>1.1M</td>\n",
       "      <td>Sheriff Deputy Rick Grimes wakes up from a com...</td>\n",
       "    </tr>\n",
       "    <tr>\n",
       "      <th>...</th>\n",
       "      <td>...</td>\n",
       "      <td>...</td>\n",
       "      <td>...</td>\n",
       "      <td>...</td>\n",
       "      <td>...</td>\n",
       "      <td>...</td>\n",
       "    </tr>\n",
       "    <tr>\n",
       "      <th>895</th>\n",
       "      <td>896. Lockwood &amp; Co.</td>\n",
       "      <td>2023</td>\n",
       "      <td>TV-14</td>\n",
       "      <td>7.4</td>\n",
       "      <td>26K</td>\n",
       "      <td>Lucy, a girl with psychic abilities, joins two...</td>\n",
       "    </tr>\n",
       "    <tr>\n",
       "      <th>896</th>\n",
       "      <td>897. Batman</td>\n",
       "      <td>1966–1968</td>\n",
       "      <td>TV-G</td>\n",
       "      <td>7.5</td>\n",
       "      <td>26K</td>\n",
       "      <td>The Caped Crusader and his young ward battle e...</td>\n",
       "    </tr>\n",
       "    <tr>\n",
       "      <th>897</th>\n",
       "      <td>898. How I Met Your Father</td>\n",
       "      <td>2022–2023</td>\n",
       "      <td>TV-14</td>\n",
       "      <td>5.7</td>\n",
       "      <td>26K</td>\n",
       "      <td>Sophie and her close-knit group of friends are...</td>\n",
       "    </tr>\n",
       "    <tr>\n",
       "      <th>898</th>\n",
       "      <td>899. Delhi Crime</td>\n",
       "      <td>2019–</td>\n",
       "      <td>TV-MA</td>\n",
       "      <td>8.5</td>\n",
       "      <td>26K</td>\n",
       "      <td>Based on the Nirbhaya case, Delhi Crime follow...</td>\n",
       "    </tr>\n",
       "    <tr>\n",
       "      <th>899</th>\n",
       "      <td>900. Caprica</td>\n",
       "      <td>2009–2010</td>\n",
       "      <td>TV-14</td>\n",
       "      <td>7.1</td>\n",
       "      <td>26K</td>\n",
       "      <td>Two families, the Graystones and the Adamas, l...</td>\n",
       "    </tr>\n",
       "  </tbody>\n",
       "</table>\n",
       "<p>900 rows × 6 columns</p>\n",
       "</div>"
      ],
      "text/plain": [
       "                          Title       Year Parental Rating  Rating  \\\n",
       "0            1. Game of Thrones  2011–2019           TV-MA     9.2   \n",
       "1               2. Breaking Bad  2008–2013           TV-MA     9.5   \n",
       "2            3. Stranger Things  2016–2025           TV-14     8.7   \n",
       "3                    4. Friends  1994–2004           TV-14     8.9   \n",
       "4           5. The Walking Dead  2010–2022           TV-MA     8.1   \n",
       "..                          ...        ...             ...     ...   \n",
       "895         896. Lockwood & Co.       2023           TV-14     7.4   \n",
       "896                 897. Batman  1966–1968            TV-G     7.5   \n",
       "897  898. How I Met Your Father  2022–2023           TV-14     5.7   \n",
       "898            899. Delhi Crime      2019–           TV-MA     8.5   \n",
       "899                900. Caprica  2009–2010           TV-14     7.1   \n",
       "\n",
       "    Number of Votes                                        Description  \n",
       "0              2.3M  Nine noble families fight for control over the...  \n",
       "1              2.1M  A chemistry teacher diagnosed with inoperable ...  \n",
       "2              1.3M  When a young boy vanishes, a small town uncove...  \n",
       "3              1.1M  Follows the personal and professional lives of...  \n",
       "4              1.1M  Sheriff Deputy Rick Grimes wakes up from a com...  \n",
       "..              ...                                                ...  \n",
       "895             26K  Lucy, a girl with psychic abilities, joins two...  \n",
       "896             26K  The Caped Crusader and his young ward battle e...  \n",
       "897             26K  Sophie and her close-knit group of friends are...  \n",
       "898             26K  Based on the Nirbhaya case, Delhi Crime follow...  \n",
       "899             26K  Two families, the Graystones and the Adamas, l...  \n",
       "\n",
       "[900 rows x 6 columns]"
      ]
     },
     "execution_count": 2,
     "metadata": {},
     "output_type": "execute_result"
    }
   ],
   "source": [
    "df=pd.read_csv('/kaggle/input/imdb-top-rated-tv-series-dataset/IMDb Top TV Series.csv')\n",
    "df"
   ]
  },
  {
   "cell_type": "markdown",
   "id": "ff3a23f4",
   "metadata": {
    "papermill": {
     "duration": 0.00723,
     "end_time": "2024-06-09T17:45:52.197898",
     "exception": false,
     "start_time": "2024-06-09T17:45:52.190668",
     "status": "completed"
    },
    "tags": []
   },
   "source": [
    "## Data Cleaning"
   ]
  },
  {
   "cell_type": "code",
   "execution_count": 3,
   "id": "5916fe8b",
   "metadata": {
    "execution": {
     "iopub.execute_input": "2024-06-09T17:45:52.215324Z",
     "iopub.status.busy": "2024-06-09T17:45:52.214953Z",
     "iopub.status.idle": "2024-06-09T17:45:52.220407Z",
     "shell.execute_reply": "2024-06-09T17:45:52.219239Z"
    },
    "papermill": {
     "duration": 0.017079,
     "end_time": "2024-06-09T17:45:52.222805",
     "exception": false,
     "start_time": "2024-06-09T17:45:52.205726",
     "status": "completed"
    },
    "tags": []
   },
   "outputs": [],
   "source": [
    "import re\n"
   ]
  },
  {
   "cell_type": "code",
   "execution_count": 4,
   "id": "cbdee034",
   "metadata": {
    "execution": {
     "iopub.execute_input": "2024-06-09T17:45:52.239968Z",
     "iopub.status.busy": "2024-06-09T17:45:52.239577Z",
     "iopub.status.idle": "2024-06-09T17:45:52.247977Z",
     "shell.execute_reply": "2024-06-09T17:45:52.246628Z"
    },
    "papermill": {
     "duration": 0.020468,
     "end_time": "2024-06-09T17:45:52.250884",
     "exception": false,
     "start_time": "2024-06-09T17:45:52.230416",
     "status": "completed"
    },
    "tags": []
   },
   "outputs": [],
   "source": [
    "# Remove numerical prefixes from titles\n",
    "df['Title'] = df['Title'].apply(lambda x: re.sub(r'^\\d+\\.\\s*', '', x))"
   ]
  },
  {
   "cell_type": "code",
   "execution_count": 5,
   "id": "65a3e7cd",
   "metadata": {
    "execution": {
     "iopub.execute_input": "2024-06-09T17:45:52.268595Z",
     "iopub.status.busy": "2024-06-09T17:45:52.267400Z",
     "iopub.status.idle": "2024-06-09T17:45:52.285062Z",
     "shell.execute_reply": "2024-06-09T17:45:52.283874Z"
    },
    "papermill": {
     "duration": 0.028873,
     "end_time": "2024-06-09T17:45:52.287514",
     "exception": false,
     "start_time": "2024-06-09T17:45:52.258641",
     "status": "completed"
    },
    "tags": []
   },
   "outputs": [
    {
     "data": {
      "text/html": [
       "<div>\n",
       "<style scoped>\n",
       "    .dataframe tbody tr th:only-of-type {\n",
       "        vertical-align: middle;\n",
       "    }\n",
       "\n",
       "    .dataframe tbody tr th {\n",
       "        vertical-align: top;\n",
       "    }\n",
       "\n",
       "    .dataframe thead th {\n",
       "        text-align: right;\n",
       "    }\n",
       "</style>\n",
       "<table border=\"1\" class=\"dataframe\">\n",
       "  <thead>\n",
       "    <tr style=\"text-align: right;\">\n",
       "      <th></th>\n",
       "      <th>Title</th>\n",
       "      <th>Year</th>\n",
       "      <th>Parental Rating</th>\n",
       "      <th>Rating</th>\n",
       "      <th>Number of Votes</th>\n",
       "      <th>Description</th>\n",
       "    </tr>\n",
       "  </thead>\n",
       "  <tbody>\n",
       "    <tr>\n",
       "      <th>0</th>\n",
       "      <td>Game of Thrones</td>\n",
       "      <td>2011–2019</td>\n",
       "      <td>TV-MA</td>\n",
       "      <td>9.2</td>\n",
       "      <td>2.3M</td>\n",
       "      <td>Nine noble families fight for control over the...</td>\n",
       "    </tr>\n",
       "    <tr>\n",
       "      <th>1</th>\n",
       "      <td>Breaking Bad</td>\n",
       "      <td>2008–2013</td>\n",
       "      <td>TV-MA</td>\n",
       "      <td>9.5</td>\n",
       "      <td>2.1M</td>\n",
       "      <td>A chemistry teacher diagnosed with inoperable ...</td>\n",
       "    </tr>\n",
       "    <tr>\n",
       "      <th>2</th>\n",
       "      <td>Stranger Things</td>\n",
       "      <td>2016–2025</td>\n",
       "      <td>TV-14</td>\n",
       "      <td>8.7</td>\n",
       "      <td>1.3M</td>\n",
       "      <td>When a young boy vanishes, a small town uncove...</td>\n",
       "    </tr>\n",
       "    <tr>\n",
       "      <th>3</th>\n",
       "      <td>Friends</td>\n",
       "      <td>1994–2004</td>\n",
       "      <td>TV-14</td>\n",
       "      <td>8.9</td>\n",
       "      <td>1.1M</td>\n",
       "      <td>Follows the personal and professional lives of...</td>\n",
       "    </tr>\n",
       "    <tr>\n",
       "      <th>4</th>\n",
       "      <td>The Walking Dead</td>\n",
       "      <td>2010–2022</td>\n",
       "      <td>TV-MA</td>\n",
       "      <td>8.1</td>\n",
       "      <td>1.1M</td>\n",
       "      <td>Sheriff Deputy Rick Grimes wakes up from a com...</td>\n",
       "    </tr>\n",
       "    <tr>\n",
       "      <th>...</th>\n",
       "      <td>...</td>\n",
       "      <td>...</td>\n",
       "      <td>...</td>\n",
       "      <td>...</td>\n",
       "      <td>...</td>\n",
       "      <td>...</td>\n",
       "    </tr>\n",
       "    <tr>\n",
       "      <th>895</th>\n",
       "      <td>Lockwood &amp; Co.</td>\n",
       "      <td>2023</td>\n",
       "      <td>TV-14</td>\n",
       "      <td>7.4</td>\n",
       "      <td>26K</td>\n",
       "      <td>Lucy, a girl with psychic abilities, joins two...</td>\n",
       "    </tr>\n",
       "    <tr>\n",
       "      <th>896</th>\n",
       "      <td>Batman</td>\n",
       "      <td>1966–1968</td>\n",
       "      <td>TV-G</td>\n",
       "      <td>7.5</td>\n",
       "      <td>26K</td>\n",
       "      <td>The Caped Crusader and his young ward battle e...</td>\n",
       "    </tr>\n",
       "    <tr>\n",
       "      <th>897</th>\n",
       "      <td>How I Met Your Father</td>\n",
       "      <td>2022–2023</td>\n",
       "      <td>TV-14</td>\n",
       "      <td>5.7</td>\n",
       "      <td>26K</td>\n",
       "      <td>Sophie and her close-knit group of friends are...</td>\n",
       "    </tr>\n",
       "    <tr>\n",
       "      <th>898</th>\n",
       "      <td>Delhi Crime</td>\n",
       "      <td>2019–</td>\n",
       "      <td>TV-MA</td>\n",
       "      <td>8.5</td>\n",
       "      <td>26K</td>\n",
       "      <td>Based on the Nirbhaya case, Delhi Crime follow...</td>\n",
       "    </tr>\n",
       "    <tr>\n",
       "      <th>899</th>\n",
       "      <td>Caprica</td>\n",
       "      <td>2009–2010</td>\n",
       "      <td>TV-14</td>\n",
       "      <td>7.1</td>\n",
       "      <td>26K</td>\n",
       "      <td>Two families, the Graystones and the Adamas, l...</td>\n",
       "    </tr>\n",
       "  </tbody>\n",
       "</table>\n",
       "<p>900 rows × 6 columns</p>\n",
       "</div>"
      ],
      "text/plain": [
       "                     Title       Year Parental Rating  Rating Number of Votes  \\\n",
       "0          Game of Thrones  2011–2019           TV-MA     9.2            2.3M   \n",
       "1             Breaking Bad  2008–2013           TV-MA     9.5            2.1M   \n",
       "2          Stranger Things  2016–2025           TV-14     8.7            1.3M   \n",
       "3                  Friends  1994–2004           TV-14     8.9            1.1M   \n",
       "4         The Walking Dead  2010–2022           TV-MA     8.1            1.1M   \n",
       "..                     ...        ...             ...     ...             ...   \n",
       "895         Lockwood & Co.       2023           TV-14     7.4             26K   \n",
       "896                 Batman  1966–1968            TV-G     7.5             26K   \n",
       "897  How I Met Your Father  2022–2023           TV-14     5.7             26K   \n",
       "898            Delhi Crime      2019–           TV-MA     8.5             26K   \n",
       "899                Caprica  2009–2010           TV-14     7.1             26K   \n",
       "\n",
       "                                           Description  \n",
       "0    Nine noble families fight for control over the...  \n",
       "1    A chemistry teacher diagnosed with inoperable ...  \n",
       "2    When a young boy vanishes, a small town uncove...  \n",
       "3    Follows the personal and professional lives of...  \n",
       "4    Sheriff Deputy Rick Grimes wakes up from a com...  \n",
       "..                                                 ...  \n",
       "895  Lucy, a girl with psychic abilities, joins two...  \n",
       "896  The Caped Crusader and his young ward battle e...  \n",
       "897  Sophie and her close-knit group of friends are...  \n",
       "898  Based on the Nirbhaya case, Delhi Crime follow...  \n",
       "899  Two families, the Graystones and the Adamas, l...  \n",
       "\n",
       "[900 rows x 6 columns]"
      ]
     },
     "execution_count": 5,
     "metadata": {},
     "output_type": "execute_result"
    }
   ],
   "source": [
    "df"
   ]
  },
  {
   "cell_type": "markdown",
   "id": "2dd4cf9d",
   "metadata": {
    "papermill": {
     "duration": 0.007656,
     "end_time": "2024-06-09T17:45:52.303057",
     "exception": false,
     "start_time": "2024-06-09T17:45:52.295401",
     "status": "completed"
    },
    "tags": []
   },
   "source": [
    "## Basic Data Exploring"
   ]
  },
  {
   "cell_type": "code",
   "execution_count": 6,
   "id": "fad8ad3e",
   "metadata": {
    "execution": {
     "iopub.execute_input": "2024-06-09T17:45:52.320462Z",
     "iopub.status.busy": "2024-06-09T17:45:52.320066Z",
     "iopub.status.idle": "2024-06-09T17:45:52.333806Z",
     "shell.execute_reply": "2024-06-09T17:45:52.332590Z"
    },
    "papermill": {
     "duration": 0.025361,
     "end_time": "2024-06-09T17:45:52.336218",
     "exception": false,
     "start_time": "2024-06-09T17:45:52.310857",
     "status": "completed"
    },
    "tags": []
   },
   "outputs": [
    {
     "name": "stdout",
     "output_type": "stream",
     "text": [
      "           Rating\n",
      "count  900.000000\n",
      "mean     7.862333\n",
      "std      0.817776\n",
      "min      1.600000\n",
      "25%      7.500000\n",
      "50%      8.000000\n",
      "75%      8.400000\n",
      "max      9.500000\n"
     ]
    }
   ],
   "source": [
    "print(df.describe())"
   ]
  },
  {
   "cell_type": "code",
   "execution_count": 7,
   "id": "4148e40b",
   "metadata": {
    "execution": {
     "iopub.execute_input": "2024-06-09T17:45:52.354441Z",
     "iopub.status.busy": "2024-06-09T17:45:52.354045Z",
     "iopub.status.idle": "2024-06-09T17:45:52.361115Z",
     "shell.execute_reply": "2024-06-09T17:45:52.360062Z"
    },
    "papermill": {
     "duration": 0.019443,
     "end_time": "2024-06-09T17:45:52.364111",
     "exception": false,
     "start_time": "2024-06-09T17:45:52.344668",
     "status": "completed"
    },
    "tags": []
   },
   "outputs": [
    {
     "name": "stdout",
     "output_type": "stream",
     "text": [
      "Title               0\n",
      "Year               12\n",
      "Parental Rating    12\n",
      "Rating              0\n",
      "Number of Votes     0\n",
      "Description         0\n",
      "dtype: int64\n"
     ]
    }
   ],
   "source": [
    "print(df.isna().sum())"
   ]
  },
  {
   "cell_type": "code",
   "execution_count": 8,
   "id": "32e8c1e3",
   "metadata": {
    "execution": {
     "iopub.execute_input": "2024-06-09T17:45:52.381732Z",
     "iopub.status.busy": "2024-06-09T17:45:52.381331Z",
     "iopub.status.idle": "2024-06-09T17:45:52.388795Z",
     "shell.execute_reply": "2024-06-09T17:45:52.387740Z"
    },
    "papermill": {
     "duration": 0.019045,
     "end_time": "2024-06-09T17:45:52.391035",
     "exception": false,
     "start_time": "2024-06-09T17:45:52.371990",
     "status": "completed"
    },
    "tags": []
   },
   "outputs": [],
   "source": [
    "# Reset DataFrame indices after dropping null values\n",
    "df = df.dropna().reset_index(drop=True)\n"
   ]
  },
  {
   "cell_type": "code",
   "execution_count": 9,
   "id": "6c037ea1",
   "metadata": {
    "execution": {
     "iopub.execute_input": "2024-06-09T17:45:52.410145Z",
     "iopub.status.busy": "2024-06-09T17:45:52.409159Z",
     "iopub.status.idle": "2024-06-09T17:45:52.416626Z",
     "shell.execute_reply": "2024-06-09T17:45:52.415524Z"
    },
    "papermill": {
     "duration": 0.019401,
     "end_time": "2024-06-09T17:45:52.418967",
     "exception": false,
     "start_time": "2024-06-09T17:45:52.399566",
     "status": "completed"
    },
    "tags": []
   },
   "outputs": [
    {
     "name": "stdout",
     "output_type": "stream",
     "text": [
      "Title              0\n",
      "Year               0\n",
      "Parental Rating    0\n",
      "Rating             0\n",
      "Number of Votes    0\n",
      "Description        0\n",
      "dtype: int64\n"
     ]
    }
   ],
   "source": [
    "print(df.isna().sum())"
   ]
  },
  {
   "cell_type": "code",
   "execution_count": 10,
   "id": "89d77d10",
   "metadata": {
    "execution": {
     "iopub.execute_input": "2024-06-09T17:45:52.437514Z",
     "iopub.status.busy": "2024-06-09T17:45:52.437109Z",
     "iopub.status.idle": "2024-06-09T17:45:52.452456Z",
     "shell.execute_reply": "2024-06-09T17:45:52.451235Z"
    },
    "papermill": {
     "duration": 0.027085,
     "end_time": "2024-06-09T17:45:52.454800",
     "exception": false,
     "start_time": "2024-06-09T17:45:52.427715",
     "status": "completed"
    },
    "tags": []
   },
   "outputs": [
    {
     "data": {
      "text/html": [
       "<div>\n",
       "<style scoped>\n",
       "    .dataframe tbody tr th:only-of-type {\n",
       "        vertical-align: middle;\n",
       "    }\n",
       "\n",
       "    .dataframe tbody tr th {\n",
       "        vertical-align: top;\n",
       "    }\n",
       "\n",
       "    .dataframe thead th {\n",
       "        text-align: right;\n",
       "    }\n",
       "</style>\n",
       "<table border=\"1\" class=\"dataframe\">\n",
       "  <thead>\n",
       "    <tr style=\"text-align: right;\">\n",
       "      <th></th>\n",
       "      <th>Title</th>\n",
       "      <th>Year</th>\n",
       "      <th>Parental Rating</th>\n",
       "      <th>Rating</th>\n",
       "      <th>Number of Votes</th>\n",
       "      <th>Description</th>\n",
       "    </tr>\n",
       "  </thead>\n",
       "  <tbody>\n",
       "    <tr>\n",
       "      <th>0</th>\n",
       "      <td>Game of Thrones</td>\n",
       "      <td>2011–2019</td>\n",
       "      <td>TV-MA</td>\n",
       "      <td>9.2</td>\n",
       "      <td>2.3M</td>\n",
       "      <td>Nine noble families fight for control over the...</td>\n",
       "    </tr>\n",
       "    <tr>\n",
       "      <th>1</th>\n",
       "      <td>Breaking Bad</td>\n",
       "      <td>2008–2013</td>\n",
       "      <td>TV-MA</td>\n",
       "      <td>9.5</td>\n",
       "      <td>2.1M</td>\n",
       "      <td>A chemistry teacher diagnosed with inoperable ...</td>\n",
       "    </tr>\n",
       "    <tr>\n",
       "      <th>2</th>\n",
       "      <td>Stranger Things</td>\n",
       "      <td>2016–2025</td>\n",
       "      <td>TV-14</td>\n",
       "      <td>8.7</td>\n",
       "      <td>1.3M</td>\n",
       "      <td>When a young boy vanishes, a small town uncove...</td>\n",
       "    </tr>\n",
       "    <tr>\n",
       "      <th>3</th>\n",
       "      <td>Friends</td>\n",
       "      <td>1994–2004</td>\n",
       "      <td>TV-14</td>\n",
       "      <td>8.9</td>\n",
       "      <td>1.1M</td>\n",
       "      <td>Follows the personal and professional lives of...</td>\n",
       "    </tr>\n",
       "    <tr>\n",
       "      <th>4</th>\n",
       "      <td>The Walking Dead</td>\n",
       "      <td>2010–2022</td>\n",
       "      <td>TV-MA</td>\n",
       "      <td>8.1</td>\n",
       "      <td>1.1M</td>\n",
       "      <td>Sheriff Deputy Rick Grimes wakes up from a com...</td>\n",
       "    </tr>\n",
       "    <tr>\n",
       "      <th>...</th>\n",
       "      <td>...</td>\n",
       "      <td>...</td>\n",
       "      <td>...</td>\n",
       "      <td>...</td>\n",
       "      <td>...</td>\n",
       "      <td>...</td>\n",
       "    </tr>\n",
       "    <tr>\n",
       "      <th>883</th>\n",
       "      <td>Lockwood &amp; Co.</td>\n",
       "      <td>2023</td>\n",
       "      <td>TV-14</td>\n",
       "      <td>7.4</td>\n",
       "      <td>26K</td>\n",
       "      <td>Lucy, a girl with psychic abilities, joins two...</td>\n",
       "    </tr>\n",
       "    <tr>\n",
       "      <th>884</th>\n",
       "      <td>Batman</td>\n",
       "      <td>1966–1968</td>\n",
       "      <td>TV-G</td>\n",
       "      <td>7.5</td>\n",
       "      <td>26K</td>\n",
       "      <td>The Caped Crusader and his young ward battle e...</td>\n",
       "    </tr>\n",
       "    <tr>\n",
       "      <th>885</th>\n",
       "      <td>How I Met Your Father</td>\n",
       "      <td>2022–2023</td>\n",
       "      <td>TV-14</td>\n",
       "      <td>5.7</td>\n",
       "      <td>26K</td>\n",
       "      <td>Sophie and her close-knit group of friends are...</td>\n",
       "    </tr>\n",
       "    <tr>\n",
       "      <th>886</th>\n",
       "      <td>Delhi Crime</td>\n",
       "      <td>2019–</td>\n",
       "      <td>TV-MA</td>\n",
       "      <td>8.5</td>\n",
       "      <td>26K</td>\n",
       "      <td>Based on the Nirbhaya case, Delhi Crime follow...</td>\n",
       "    </tr>\n",
       "    <tr>\n",
       "      <th>887</th>\n",
       "      <td>Caprica</td>\n",
       "      <td>2009–2010</td>\n",
       "      <td>TV-14</td>\n",
       "      <td>7.1</td>\n",
       "      <td>26K</td>\n",
       "      <td>Two families, the Graystones and the Adamas, l...</td>\n",
       "    </tr>\n",
       "  </tbody>\n",
       "</table>\n",
       "<p>888 rows × 6 columns</p>\n",
       "</div>"
      ],
      "text/plain": [
       "                     Title       Year Parental Rating  Rating Number of Votes  \\\n",
       "0          Game of Thrones  2011–2019           TV-MA     9.2            2.3M   \n",
       "1             Breaking Bad  2008–2013           TV-MA     9.5            2.1M   \n",
       "2          Stranger Things  2016–2025           TV-14     8.7            1.3M   \n",
       "3                  Friends  1994–2004           TV-14     8.9            1.1M   \n",
       "4         The Walking Dead  2010–2022           TV-MA     8.1            1.1M   \n",
       "..                     ...        ...             ...     ...             ...   \n",
       "883         Lockwood & Co.       2023           TV-14     7.4             26K   \n",
       "884                 Batman  1966–1968            TV-G     7.5             26K   \n",
       "885  How I Met Your Father  2022–2023           TV-14     5.7             26K   \n",
       "886            Delhi Crime      2019–           TV-MA     8.5             26K   \n",
       "887                Caprica  2009–2010           TV-14     7.1             26K   \n",
       "\n",
       "                                           Description  \n",
       "0    Nine noble families fight for control over the...  \n",
       "1    A chemistry teacher diagnosed with inoperable ...  \n",
       "2    When a young boy vanishes, a small town uncove...  \n",
       "3    Follows the personal and professional lives of...  \n",
       "4    Sheriff Deputy Rick Grimes wakes up from a com...  \n",
       "..                                                 ...  \n",
       "883  Lucy, a girl with psychic abilities, joins two...  \n",
       "884  The Caped Crusader and his young ward battle e...  \n",
       "885  Sophie and her close-knit group of friends are...  \n",
       "886  Based on the Nirbhaya case, Delhi Crime follow...  \n",
       "887  Two families, the Graystones and the Adamas, l...  \n",
       "\n",
       "[888 rows x 6 columns]"
      ]
     },
     "execution_count": 10,
     "metadata": {},
     "output_type": "execute_result"
    }
   ],
   "source": [
    "df"
   ]
  },
  {
   "cell_type": "code",
   "execution_count": 11,
   "id": "aaab037f",
   "metadata": {
    "execution": {
     "iopub.execute_input": "2024-06-09T17:45:52.474003Z",
     "iopub.status.busy": "2024-06-09T17:45:52.473616Z",
     "iopub.status.idle": "2024-06-09T17:45:52.497398Z",
     "shell.execute_reply": "2024-06-09T17:45:52.494949Z"
    },
    "papermill": {
     "duration": 0.036547,
     "end_time": "2024-06-09T17:45:52.500461",
     "exception": false,
     "start_time": "2024-06-09T17:45:52.463914",
     "status": "completed"
    },
    "tags": []
   },
   "outputs": [
    {
     "name": "stdout",
     "output_type": "stream",
     "text": [
      "<class 'pandas.core.frame.DataFrame'>\n",
      "RangeIndex: 888 entries, 0 to 887\n",
      "Data columns (total 6 columns):\n",
      " #   Column           Non-Null Count  Dtype  \n",
      "---  ------           --------------  -----  \n",
      " 0   Title            888 non-null    object \n",
      " 1   Year             888 non-null    object \n",
      " 2   Parental Rating  888 non-null    object \n",
      " 3   Rating           888 non-null    float64\n",
      " 4   Number of Votes  888 non-null    object \n",
      " 5   Description      888 non-null    object \n",
      "dtypes: float64(1), object(5)\n",
      "memory usage: 41.8+ KB\n"
     ]
    }
   ],
   "source": [
    "df.info()"
   ]
  },
  {
   "cell_type": "markdown",
   "id": "7c2d9883",
   "metadata": {
    "papermill": {
     "duration": 0.008936,
     "end_time": "2024-06-09T17:45:52.517973",
     "exception": false,
     "start_time": "2024-06-09T17:45:52.509037",
     "status": "completed"
    },
    "tags": []
   },
   "source": [
    "## Data Visualisation"
   ]
  },
  {
   "cell_type": "code",
   "execution_count": 12,
   "id": "018a5a3e",
   "metadata": {
    "execution": {
     "iopub.execute_input": "2024-06-09T17:45:52.536770Z",
     "iopub.status.busy": "2024-06-09T17:45:52.536324Z",
     "iopub.status.idle": "2024-06-09T17:45:52.541540Z",
     "shell.execute_reply": "2024-06-09T17:45:52.540386Z"
    },
    "papermill": {
     "duration": 0.017388,
     "end_time": "2024-06-09T17:45:52.543880",
     "exception": false,
     "start_time": "2024-06-09T17:45:52.526492",
     "status": "completed"
    },
    "tags": []
   },
   "outputs": [],
   "source": [
    "import warnings\n",
    "warnings.filterwarnings(\"ignore\")"
   ]
  },
  {
   "cell_type": "code",
   "execution_count": 13,
   "id": "97b996ab",
   "metadata": {
    "execution": {
     "iopub.execute_input": "2024-06-09T17:45:52.562545Z",
     "iopub.status.busy": "2024-06-09T17:45:52.562107Z",
     "iopub.status.idle": "2024-06-09T17:45:54.437954Z",
     "shell.execute_reply": "2024-06-09T17:45:54.436540Z"
    },
    "papermill": {
     "duration": 1.888159,
     "end_time": "2024-06-09T17:45:54.440469",
     "exception": false,
     "start_time": "2024-06-09T17:45:52.552310",
     "status": "completed"
    },
    "tags": []
   },
   "outputs": [
    {
     "data": {
      "image/png": "[encoded data removed]",
      "text/plain": [
       "<Figure size 1000x600 with 1 Axes>"
      ]
     },
     "metadata": {},
     "output_type": "display_data"
    }
   ],
   "source": [
    "import matplotlib.pyplot as plt\n",
    "import seaborn as sns\n",
    "\n",
    "# Rating distribution\n",
    "plt.figure(figsize=(10, 6))\n",
    "sns.histplot(df['Parental Rating'], bins=20, kde=True)\n",
    "plt.title('Rating Distribution')\n",
    "plt.xlabel('Rating')\n",
    "plt.ylabel('Frequency')\n",
    "plt.show()\n",
    "\n"
   ]
  },
  {
   "cell_type": "code",
   "execution_count": 14,
   "id": "557ecd55",
   "metadata": {
    "execution": {
     "iopub.execute_input": "2024-06-09T17:45:54.460445Z",
     "iopub.status.busy": "2024-06-09T17:45:54.460051Z",
     "iopub.status.idle": "2024-06-09T17:45:55.094665Z",
     "shell.execute_reply": "2024-06-09T17:45:55.093476Z"
    },
    "papermill": {
     "duration": 0.647265,
     "end_time": "2024-06-09T17:45:55.097075",
     "exception": false,
     "start_time": "2024-06-09T17:45:54.449810",
     "status": "completed"
    },
    "tags": []
   },
   "outputs": [
    {
     "data": {
      "image/png": "[encoded data removed]",
      "text/plain": [
       "<Figure size 1200x800 with 1 Axes>"
      ]
     },
     "metadata": {},
     "output_type": "display_data"
    }
   ],
   "source": [
    "plt.figure(figsize=(12, 8))\n",
    "sns.countplot(y='Rating', data=df, palette='rocket', order=df['Rating'].value_counts().index)\n",
    "plt.title('Number of Series per Genre')\n",
    "plt.xlabel('Count')\n",
    "plt.ylabel('Genre')\n",
    "plt.show()\n"
   ]
  },
  {
   "cell_type": "code",
   "execution_count": 15,
   "id": "28cdf05f",
   "metadata": {
    "execution": {
     "iopub.execute_input": "2024-06-09T17:45:55.118812Z",
     "iopub.status.busy": "2024-06-09T17:45:55.118391Z",
     "iopub.status.idle": "2024-06-09T17:45:55.133493Z",
     "shell.execute_reply": "2024-06-09T17:45:55.132385Z"
    },
    "papermill": {
     "duration": 0.028922,
     "end_time": "2024-06-09T17:45:55.135827",
     "exception": false,
     "start_time": "2024-06-09T17:45:55.106905",
     "status": "completed"
    },
    "tags": []
   },
   "outputs": [
    {
     "data": {
      "text/html": [
       "<div>\n",
       "<style scoped>\n",
       "    .dataframe tbody tr th:only-of-type {\n",
       "        vertical-align: middle;\n",
       "    }\n",
       "\n",
       "    .dataframe tbody tr th {\n",
       "        vertical-align: top;\n",
       "    }\n",
       "\n",
       "    .dataframe thead th {\n",
       "        text-align: right;\n",
       "    }\n",
       "</style>\n",
       "<table border=\"1\" class=\"dataframe\">\n",
       "  <thead>\n",
       "    <tr style=\"text-align: right;\">\n",
       "      <th></th>\n",
       "      <th>Title</th>\n",
       "      <th>Year</th>\n",
       "      <th>Parental Rating</th>\n",
       "      <th>Rating</th>\n",
       "      <th>Number of Votes</th>\n",
       "      <th>Description</th>\n",
       "    </tr>\n",
       "  </thead>\n",
       "  <tbody>\n",
       "    <tr>\n",
       "      <th>0</th>\n",
       "      <td>Game of Thrones</td>\n",
       "      <td>2011–2019</td>\n",
       "      <td>TV-MA</td>\n",
       "      <td>9.2</td>\n",
       "      <td>2.3M</td>\n",
       "      <td>Nine noble families fight for control over the...</td>\n",
       "    </tr>\n",
       "    <tr>\n",
       "      <th>1</th>\n",
       "      <td>Breaking Bad</td>\n",
       "      <td>2008–2013</td>\n",
       "      <td>TV-MA</td>\n",
       "      <td>9.5</td>\n",
       "      <td>2.1M</td>\n",
       "      <td>A chemistry teacher diagnosed with inoperable ...</td>\n",
       "    </tr>\n",
       "    <tr>\n",
       "      <th>2</th>\n",
       "      <td>Stranger Things</td>\n",
       "      <td>2016–2025</td>\n",
       "      <td>TV-14</td>\n",
       "      <td>8.7</td>\n",
       "      <td>1.3M</td>\n",
       "      <td>When a young boy vanishes, a small town uncove...</td>\n",
       "    </tr>\n",
       "    <tr>\n",
       "      <th>3</th>\n",
       "      <td>Friends</td>\n",
       "      <td>1994–2004</td>\n",
       "      <td>TV-14</td>\n",
       "      <td>8.9</td>\n",
       "      <td>1.1M</td>\n",
       "      <td>Follows the personal and professional lives of...</td>\n",
       "    </tr>\n",
       "    <tr>\n",
       "      <th>4</th>\n",
       "      <td>The Walking Dead</td>\n",
       "      <td>2010–2022</td>\n",
       "      <td>TV-MA</td>\n",
       "      <td>8.1</td>\n",
       "      <td>1.1M</td>\n",
       "      <td>Sheriff Deputy Rick Grimes wakes up from a com...</td>\n",
       "    </tr>\n",
       "    <tr>\n",
       "      <th>...</th>\n",
       "      <td>...</td>\n",
       "      <td>...</td>\n",
       "      <td>...</td>\n",
       "      <td>...</td>\n",
       "      <td>...</td>\n",
       "      <td>...</td>\n",
       "    </tr>\n",
       "    <tr>\n",
       "      <th>883</th>\n",
       "      <td>Lockwood &amp; Co.</td>\n",
       "      <td>2023</td>\n",
       "      <td>TV-14</td>\n",
       "      <td>7.4</td>\n",
       "      <td>26K</td>\n",
       "      <td>Lucy, a girl with psychic abilities, joins two...</td>\n",
       "    </tr>\n",
       "    <tr>\n",
       "      <th>884</th>\n",
       "      <td>Batman</td>\n",
       "      <td>1966–1968</td>\n",
       "      <td>TV-G</td>\n",
       "      <td>7.5</td>\n",
       "      <td>26K</td>\n",
       "      <td>The Caped Crusader and his young ward battle e...</td>\n",
       "    </tr>\n",
       "    <tr>\n",
       "      <th>885</th>\n",
       "      <td>How I Met Your Father</td>\n",
       "      <td>2022–2023</td>\n",
       "      <td>TV-14</td>\n",
       "      <td>5.7</td>\n",
       "      <td>26K</td>\n",
       "      <td>Sophie and her close-knit group of friends are...</td>\n",
       "    </tr>\n",
       "    <tr>\n",
       "      <th>886</th>\n",
       "      <td>Delhi Crime</td>\n",
       "      <td>2019–</td>\n",
       "      <td>TV-MA</td>\n",
       "      <td>8.5</td>\n",
       "      <td>26K</td>\n",
       "      <td>Based on the Nirbhaya case, Delhi Crime follow...</td>\n",
       "    </tr>\n",
       "    <tr>\n",
       "      <th>887</th>\n",
       "      <td>Caprica</td>\n",
       "      <td>2009–2010</td>\n",
       "      <td>TV-14</td>\n",
       "      <td>7.1</td>\n",
       "      <td>26K</td>\n",
       "      <td>Two families, the Graystones and the Adamas, l...</td>\n",
       "    </tr>\n",
       "  </tbody>\n",
       "</table>\n",
       "<p>888 rows × 6 columns</p>\n",
       "</div>"
      ],
      "text/plain": [
       "                     Title       Year Parental Rating  Rating Number of Votes  \\\n",
       "0          Game of Thrones  2011–2019           TV-MA     9.2            2.3M   \n",
       "1             Breaking Bad  2008–2013           TV-MA     9.5            2.1M   \n",
       "2          Stranger Things  2016–2025           TV-14     8.7            1.3M   \n",
       "3                  Friends  1994–2004           TV-14     8.9            1.1M   \n",
       "4         The Walking Dead  2010–2022           TV-MA     8.1            1.1M   \n",
       "..                     ...        ...             ...     ...             ...   \n",
       "883         Lockwood & Co.       2023           TV-14     7.4             26K   \n",
       "884                 Batman  1966–1968            TV-G     7.5             26K   \n",
       "885  How I Met Your Father  2022–2023           TV-14     5.7             26K   \n",
       "886            Delhi Crime      2019–           TV-MA     8.5             26K   \n",
       "887                Caprica  2009–2010           TV-14     7.1             26K   \n",
       "\n",
       "                                           Description  \n",
       "0    Nine noble families fight for control over the...  \n",
       "1    A chemistry teacher diagnosed with inoperable ...  \n",
       "2    When a young boy vanishes, a small town uncove...  \n",
       "3    Follows the personal and professional lives of...  \n",
       "4    Sheriff Deputy Rick Grimes wakes up from a com...  \n",
       "..                                                 ...  \n",
       "883  Lucy, a girl with psychic abilities, joins two...  \n",
       "884  The Caped Crusader and his young ward battle e...  \n",
       "885  Sophie and her close-knit group of friends are...  \n",
       "886  Based on the Nirbhaya case, Delhi Crime follow...  \n",
       "887  Two families, the Graystones and the Adamas, l...  \n",
       "\n",
       "[888 rows x 6 columns]"
      ]
     },
     "execution_count": 15,
     "metadata": {},
     "output_type": "execute_result"
    }
   ],
   "source": [
    "df"
   ]
  },
  {
   "cell_type": "code",
   "execution_count": 16,
   "id": "c4061a90",
   "metadata": {
    "execution": {
     "iopub.execute_input": "2024-06-09T17:45:55.158570Z",
     "iopub.status.busy": "2024-06-09T17:45:55.158137Z",
     "iopub.status.idle": "2024-06-09T17:45:55.164827Z",
     "shell.execute_reply": "2024-06-09T17:45:55.163752Z"
    },
    "papermill": {
     "duration": 0.02051,
     "end_time": "2024-06-09T17:45:55.167046",
     "exception": false,
     "start_time": "2024-06-09T17:45:55.146536",
     "status": "completed"
    },
    "tags": []
   },
   "outputs": [],
   "source": [
    "# Combine relevant features into a single string\n",
    "df['combined_features'] = df['Description'] + ' ' + df['Parental Rating']"
   ]
  },
  {
   "cell_type": "code",
   "execution_count": 17,
   "id": "8a033cfd",
   "metadata": {
    "execution": {
     "iopub.execute_input": "2024-06-09T17:45:55.188998Z",
     "iopub.status.busy": "2024-06-09T17:45:55.188600Z",
     "iopub.status.idle": "2024-06-09T17:45:55.470475Z",
     "shell.execute_reply": "2024-06-09T17:45:55.469270Z"
    },
    "papermill": {
     "duration": 0.295854,
     "end_time": "2024-06-09T17:45:55.473136",
     "exception": false,
     "start_time": "2024-06-09T17:45:55.177282",
     "status": "completed"
    },
    "tags": []
   },
   "outputs": [],
   "source": [
    "from sklearn.feature_extraction.text import TfidfVectorizer\n",
    "from sklearn.metrics.pairwise import cosine_similarity"
   ]
  },
  {
   "cell_type": "code",
   "execution_count": 18,
   "id": "c5c03974",
   "metadata": {
    "execution": {
     "iopub.execute_input": "2024-06-09T17:45:55.497152Z",
     "iopub.status.busy": "2024-06-09T17:45:55.496740Z",
     "iopub.status.idle": "2024-06-09T17:45:55.549537Z",
     "shell.execute_reply": "2024-06-09T17:45:55.548317Z"
    },
    "papermill": {
     "duration": 0.068809,
     "end_time": "2024-06-09T17:45:55.552157",
     "exception": false,
     "start_time": "2024-06-09T17:45:55.483348",
     "status": "completed"
    },
    "tags": []
   },
   "outputs": [],
   "source": [
    "# Vectorize the combined features\n",
    "vectorizer = TfidfVectorizer(stop_words='english')\n",
    "tfidf_matrix = vectorizer.fit_transform(df['combined_features'])"
   ]
  },
  {
   "cell_type": "code",
   "execution_count": 19,
   "id": "8cd76574",
   "metadata": {
    "execution": {
     "iopub.execute_input": "2024-06-09T17:45:55.574783Z",
     "iopub.status.busy": "2024-06-09T17:45:55.574373Z",
     "iopub.status.idle": "2024-06-09T17:45:55.581725Z",
     "shell.execute_reply": "2024-06-09T17:45:55.580546Z"
    },
    "papermill": {
     "duration": 0.02111,
     "end_time": "2024-06-09T17:45:55.583848",
     "exception": false,
     "start_time": "2024-06-09T17:45:55.562738",
     "status": "completed"
    },
    "tags": []
   },
   "outputs": [
    {
     "data": {
      "text/plain": [
       "<888x5012 sparse matrix of type '<class 'numpy.float64'>'\n",
       "\twith 14213 stored elements in Compressed Sparse Row format>"
      ]
     },
     "execution_count": 19,
     "metadata": {},
     "output_type": "execute_result"
    }
   ],
   "source": [
    "tfidf_matrix"
   ]
  },
  {
   "cell_type": "code",
   "execution_count": 20,
   "id": "90ee1848",
   "metadata": {
    "execution": {
     "iopub.execute_input": "2024-06-09T17:45:55.606684Z",
     "iopub.status.busy": "2024-06-09T17:45:55.606228Z",
     "iopub.status.idle": "2024-06-09T17:45:55.658168Z",
     "shell.execute_reply": "2024-06-09T17:45:55.656995Z"
    },
    "papermill": {
     "duration": 0.066573,
     "end_time": "2024-06-09T17:45:55.660776",
     "exception": false,
     "start_time": "2024-06-09T17:45:55.594203",
     "status": "completed"
    },
    "tags": []
   },
   "outputs": [
    {
     "data": {
      "text/plain": [
       "matrix([[0., 0., 0., ..., 0., 0., 0.],\n",
       "        [0., 0., 0., ..., 0., 0., 0.],\n",
       "        [0., 0., 0., ..., 0., 0., 0.],\n",
       "        ...,\n",
       "        [0., 0., 0., ..., 0., 0., 0.],\n",
       "        [0., 0., 0., ..., 0., 0., 0.],\n",
       "        [0., 0., 0., ..., 0., 0., 0.]])"
      ]
     },
     "execution_count": 20,
     "metadata": {},
     "output_type": "execute_result"
    }
   ],
   "source": [
    "tfidf_matrix.todense()"
   ]
  },
  {
   "cell_type": "code",
   "execution_count": 21,
   "id": "9c6feefc",
   "metadata": {
    "execution": {
     "iopub.execute_input": "2024-06-09T17:45:55.684089Z",
     "iopub.status.busy": "2024-06-09T17:45:55.682917Z",
     "iopub.status.idle": "2024-06-09T17:45:55.731943Z",
     "shell.execute_reply": "2024-06-09T17:45:55.730646Z"
    },
    "papermill": {
     "duration": 0.063351,
     "end_time": "2024-06-09T17:45:55.734495",
     "exception": false,
     "start_time": "2024-06-09T17:45:55.671144",
     "status": "completed"
    },
    "tags": []
   },
   "outputs": [],
   "source": [
    "# Compute cosine similarity\n",
    "cosine_sim = cosine_similarity(tfidf_matrix, tfidf_matrix)"
   ]
  },
  {
   "cell_type": "code",
   "execution_count": 22,
   "id": "e6d9b7d4",
   "metadata": {
    "execution": {
     "iopub.execute_input": "2024-06-09T17:45:55.756937Z",
     "iopub.status.busy": "2024-06-09T17:45:55.756522Z",
     "iopub.status.idle": "2024-06-09T17:45:55.764598Z",
     "shell.execute_reply": "2024-06-09T17:45:55.763580Z"
    },
    "papermill": {
     "duration": 0.022147,
     "end_time": "2024-06-09T17:45:55.767108",
     "exception": false,
     "start_time": "2024-06-09T17:45:55.744961",
     "status": "completed"
    },
    "tags": []
   },
   "outputs": [
    {
     "data": {
      "text/plain": [
       "array([[1.        , 0.00891969, 0.00230462, ..., 0.00212314, 0.009404  ,\n",
       "        0.0621341 ],\n",
       "       [0.00891969, 1.        , 0.00187634, ..., 0.00172858, 0.0076564 ,\n",
       "        0.00166171],\n",
       "       [0.00230462, 0.00187634, 1.        , ..., 0.01001341, 0.00197822,\n",
       "        0.00962604],\n",
       "       ...,\n",
       "       [0.00212314, 0.00172858, 0.01001341, ..., 1.        , 0.00182244,\n",
       "        0.00886802],\n",
       "       [0.009404  , 0.0076564 , 0.00197822, ..., 0.00182244, 1.        ,\n",
       "        0.00175194],\n",
       "       [0.0621341 , 0.00166171, 0.00962604, ..., 0.00886802, 0.00175194,\n",
       "        1.        ]])"
      ]
     },
     "execution_count": 22,
     "metadata": {},
     "output_type": "execute_result"
    }
   ],
   "source": [
    "cosine_sim"
   ]
  },
  {
   "cell_type": "code",
   "execution_count": 23,
   "id": "a34e92db",
   "metadata": {
    "execution": {
     "iopub.execute_input": "2024-06-09T17:45:55.790491Z",
     "iopub.status.busy": "2024-06-09T17:45:55.789565Z",
     "iopub.status.idle": "2024-06-09T17:45:55.801303Z",
     "shell.execute_reply": "2024-06-09T17:45:55.800270Z"
    },
    "papermill": {
     "duration": 0.025813,
     "end_time": "2024-06-09T17:45:55.803607",
     "exception": false,
     "start_time": "2024-06-09T17:45:55.777794",
     "status": "completed"
    },
    "tags": []
   },
   "outputs": [
    {
     "data": {
      "text/plain": [
       "Title\n",
       "Game of Thrones            0\n",
       "Breaking Bad               1\n",
       "Stranger Things            2\n",
       "Friends                    3\n",
       "The Walking Dead           4\n",
       "                        ... \n",
       "Lockwood & Co.           883\n",
       "Batman                   884\n",
       "How I Met Your Father    885\n",
       "Delhi Crime              886\n",
       "Caprica                  887\n",
       "Length: 888, dtype: int64"
      ]
     },
     "execution_count": 23,
     "metadata": {},
     "output_type": "execute_result"
    }
   ],
   "source": [
    "#Construct a reverse map of indices and movie titles\n",
    "indices = pd.Series(df.index, index=df['Title']).drop_duplicates()\n",
    "\n",
    "indices"
   ]
  },
  {
   "cell_type": "code",
   "execution_count": 24,
   "id": "60b9a4ca",
   "metadata": {
    "execution": {
     "iopub.execute_input": "2024-06-09T17:45:55.827079Z",
     "iopub.status.busy": "2024-06-09T17:45:55.826213Z",
     "iopub.status.idle": "2024-06-09T17:45:55.833164Z",
     "shell.execute_reply": "2024-06-09T17:45:55.832094Z"
    },
    "papermill": {
     "duration": 0.021222,
     "end_time": "2024-06-09T17:45:55.835400",
     "exception": false,
     "start_time": "2024-06-09T17:45:55.814178",
     "status": "completed"
    },
    "tags": []
   },
   "outputs": [
    {
     "name": "stdout",
     "output_type": "stream",
     "text": [
      "0            Game of Thrones\n",
      "1               Breaking Bad\n",
      "2            Stranger Things\n",
      "3                    Friends\n",
      "4           The Walking Dead\n",
      "               ...          \n",
      "883           Lockwood & Co.\n",
      "884                   Batman\n",
      "885    How I Met Your Father\n",
      "886              Delhi Crime\n",
      "887                  Caprica\n",
      "Name: Title, Length: 888, dtype: object\n",
      "RangeIndex(start=0, stop=888, step=1)\n"
     ]
    }
   ],
   "source": [
    "print(df['Title'])\n",
    "print(df.index)\n"
   ]
  },
  {
   "cell_type": "code",
   "execution_count": 25,
   "id": "3dfb52fe",
   "metadata": {
    "execution": {
     "iopub.execute_input": "2024-06-09T17:45:55.858532Z",
     "iopub.status.busy": "2024-06-09T17:45:55.858135Z",
     "iopub.status.idle": "2024-06-09T17:45:55.874296Z",
     "shell.execute_reply": "2024-06-09T17:45:55.873034Z"
    },
    "papermill": {
     "duration": 0.03044,
     "end_time": "2024-06-09T17:45:55.876610",
     "exception": false,
     "start_time": "2024-06-09T17:45:55.846170",
     "status": "completed"
    },
    "tags": []
   },
   "outputs": [
    {
     "data": {
      "text/html": [
       "<div>\n",
       "<style scoped>\n",
       "    .dataframe tbody tr th:only-of-type {\n",
       "        vertical-align: middle;\n",
       "    }\n",
       "\n",
       "    .dataframe tbody tr th {\n",
       "        vertical-align: top;\n",
       "    }\n",
       "\n",
       "    .dataframe thead th {\n",
       "        text-align: right;\n",
       "    }\n",
       "</style>\n",
       "<table border=\"1\" class=\"dataframe\">\n",
       "  <thead>\n",
       "    <tr style=\"text-align: right;\">\n",
       "      <th></th>\n",
       "      <th>Title</th>\n",
       "      <th>Year</th>\n",
       "      <th>Parental Rating</th>\n",
       "      <th>Rating</th>\n",
       "      <th>Number of Votes</th>\n",
       "      <th>Description</th>\n",
       "      <th>combined_features</th>\n",
       "    </tr>\n",
       "  </thead>\n",
       "  <tbody>\n",
       "    <tr>\n",
       "      <th>0</th>\n",
       "      <td>Game of Thrones</td>\n",
       "      <td>2011–2019</td>\n",
       "      <td>TV-MA</td>\n",
       "      <td>9.2</td>\n",
       "      <td>2.3M</td>\n",
       "      <td>Nine noble families fight for control over the...</td>\n",
       "      <td>Nine noble families fight for control over the...</td>\n",
       "    </tr>\n",
       "    <tr>\n",
       "      <th>1</th>\n",
       "      <td>Breaking Bad</td>\n",
       "      <td>2008–2013</td>\n",
       "      <td>TV-MA</td>\n",
       "      <td>9.5</td>\n",
       "      <td>2.1M</td>\n",
       "      <td>A chemistry teacher diagnosed with inoperable ...</td>\n",
       "      <td>A chemistry teacher diagnosed with inoperable ...</td>\n",
       "    </tr>\n",
       "    <tr>\n",
       "      <th>2</th>\n",
       "      <td>Stranger Things</td>\n",
       "      <td>2016–2025</td>\n",
       "      <td>TV-14</td>\n",
       "      <td>8.7</td>\n",
       "      <td>1.3M</td>\n",
       "      <td>When a young boy vanishes, a small town uncove...</td>\n",
       "      <td>When a young boy vanishes, a small town uncove...</td>\n",
       "    </tr>\n",
       "    <tr>\n",
       "      <th>3</th>\n",
       "      <td>Friends</td>\n",
       "      <td>1994–2004</td>\n",
       "      <td>TV-14</td>\n",
       "      <td>8.9</td>\n",
       "      <td>1.1M</td>\n",
       "      <td>Follows the personal and professional lives of...</td>\n",
       "      <td>Follows the personal and professional lives of...</td>\n",
       "    </tr>\n",
       "    <tr>\n",
       "      <th>4</th>\n",
       "      <td>The Walking Dead</td>\n",
       "      <td>2010–2022</td>\n",
       "      <td>TV-MA</td>\n",
       "      <td>8.1</td>\n",
       "      <td>1.1M</td>\n",
       "      <td>Sheriff Deputy Rick Grimes wakes up from a com...</td>\n",
       "      <td>Sheriff Deputy Rick Grimes wakes up from a com...</td>\n",
       "    </tr>\n",
       "    <tr>\n",
       "      <th>...</th>\n",
       "      <td>...</td>\n",
       "      <td>...</td>\n",
       "      <td>...</td>\n",
       "      <td>...</td>\n",
       "      <td>...</td>\n",
       "      <td>...</td>\n",
       "      <td>...</td>\n",
       "    </tr>\n",
       "    <tr>\n",
       "      <th>883</th>\n",
       "      <td>Lockwood &amp; Co.</td>\n",
       "      <td>2023</td>\n",
       "      <td>TV-14</td>\n",
       "      <td>7.4</td>\n",
       "      <td>26K</td>\n",
       "      <td>Lucy, a girl with psychic abilities, joins two...</td>\n",
       "      <td>Lucy, a girl with psychic abilities, joins two...</td>\n",
       "    </tr>\n",
       "    <tr>\n",
       "      <th>884</th>\n",
       "      <td>Batman</td>\n",
       "      <td>1966–1968</td>\n",
       "      <td>TV-G</td>\n",
       "      <td>7.5</td>\n",
       "      <td>26K</td>\n",
       "      <td>The Caped Crusader and his young ward battle e...</td>\n",
       "      <td>The Caped Crusader and his young ward battle e...</td>\n",
       "    </tr>\n",
       "    <tr>\n",
       "      <th>885</th>\n",
       "      <td>How I Met Your Father</td>\n",
       "      <td>2022–2023</td>\n",
       "      <td>TV-14</td>\n",
       "      <td>5.7</td>\n",
       "      <td>26K</td>\n",
       "      <td>Sophie and her close-knit group of friends are...</td>\n",
       "      <td>Sophie and her close-knit group of friends are...</td>\n",
       "    </tr>\n",
       "    <tr>\n",
       "      <th>886</th>\n",
       "      <td>Delhi Crime</td>\n",
       "      <td>2019–</td>\n",
       "      <td>TV-MA</td>\n",
       "      <td>8.5</td>\n",
       "      <td>26K</td>\n",
       "      <td>Based on the Nirbhaya case, Delhi Crime follow...</td>\n",
       "      <td>Based on the Nirbhaya case, Delhi Crime follow...</td>\n",
       "    </tr>\n",
       "    <tr>\n",
       "      <th>887</th>\n",
       "      <td>Caprica</td>\n",
       "      <td>2009–2010</td>\n",
       "      <td>TV-14</td>\n",
       "      <td>7.1</td>\n",
       "      <td>26K</td>\n",
       "      <td>Two families, the Graystones and the Adamas, l...</td>\n",
       "      <td>Two families, the Graystones and the Adamas, l...</td>\n",
       "    </tr>\n",
       "  </tbody>\n",
       "</table>\n",
       "<p>888 rows × 7 columns</p>\n",
       "</div>"
      ],
      "text/plain": [
       "                     Title       Year Parental Rating  Rating Number of Votes  \\\n",
       "0          Game of Thrones  2011–2019           TV-MA     9.2            2.3M   \n",
       "1             Breaking Bad  2008–2013           TV-MA     9.5            2.1M   \n",
       "2          Stranger Things  2016–2025           TV-14     8.7            1.3M   \n",
       "3                  Friends  1994–2004           TV-14     8.9            1.1M   \n",
       "4         The Walking Dead  2010–2022           TV-MA     8.1            1.1M   \n",
       "..                     ...        ...             ...     ...             ...   \n",
       "883         Lockwood & Co.       2023           TV-14     7.4             26K   \n",
       "884                 Batman  1966–1968            TV-G     7.5             26K   \n",
       "885  How I Met Your Father  2022–2023           TV-14     5.7             26K   \n",
       "886            Delhi Crime      2019–           TV-MA     8.5             26K   \n",
       "887                Caprica  2009–2010           TV-14     7.1             26K   \n",
       "\n",
       "                                           Description  \\\n",
       "0    Nine noble families fight for control over the...   \n",
       "1    A chemistry teacher diagnosed with inoperable ...   \n",
       "2    When a young boy vanishes, a small town uncove...   \n",
       "3    Follows the personal and professional lives of...   \n",
       "4    Sheriff Deputy Rick Grimes wakes up from a com...   \n",
       "..                                                 ...   \n",
       "883  Lucy, a girl with psychic abilities, joins two...   \n",
       "884  The Caped Crusader and his young ward battle e...   \n",
       "885  Sophie and her close-knit group of friends are...   \n",
       "886  Based on the Nirbhaya case, Delhi Crime follow...   \n",
       "887  Two families, the Graystones and the Adamas, l...   \n",
       "\n",
       "                                     combined_features  \n",
       "0    Nine noble families fight for control over the...  \n",
       "1    A chemistry teacher diagnosed with inoperable ...  \n",
       "2    When a young boy vanishes, a small town uncove...  \n",
       "3    Follows the personal and professional lives of...  \n",
       "4    Sheriff Deputy Rick Grimes wakes up from a com...  \n",
       "..                                                 ...  \n",
       "883  Lucy, a girl with psychic abilities, joins two...  \n",
       "884  The Caped Crusader and his young ward battle e...  \n",
       "885  Sophie and her close-knit group of friends are...  \n",
       "886  Based on the Nirbhaya case, Delhi Crime follow...  \n",
       "887  Two families, the Graystones and the Adamas, l...  \n",
       "\n",
       "[888 rows x 7 columns]"
      ]
     },
     "execution_count": 25,
     "metadata": {},
     "output_type": "execute_result"
    }
   ],
   "source": [
    "df"
   ]
  },
  {
   "cell_type": "code",
   "execution_count": 26,
   "id": "902ff61c",
   "metadata": {
    "execution": {
     "iopub.execute_input": "2024-06-09T17:45:55.901103Z",
     "iopub.status.busy": "2024-06-09T17:45:55.900724Z",
     "iopub.status.idle": "2024-06-09T17:45:55.908756Z",
     "shell.execute_reply": "2024-06-09T17:45:55.907597Z"
    },
    "papermill": {
     "duration": 0.022603,
     "end_time": "2024-06-09T17:45:55.911038",
     "exception": false,
     "start_time": "2024-06-09T17:45:55.888435",
     "status": "completed"
    },
    "tags": []
   },
   "outputs": [],
   "source": [
    "# Function to get recommendations\n",
    "def get_recommendations(title, cosine_sim=cosine_sim):\n",
    "    # Convert title to lowercase for case-insensitive comparison\n",
    "    title_lower = title.lower()\n",
    "    \n",
    "    # Check if the title exists in the DataFrame\n",
    "    if title_lower not in df['Title'].str.lower().values:\n",
    "        return f\"Title '{title}' not found in the dataset.\"\n",
    "    \n",
    "    # Get the index of the TV series that matches the title\n",
    "    idx = df[df['Title'].str.lower() == title_lower].index[0]\n",
    "\n",
    "    # Get the pairwise similarity scores of all TV series with that TV series\n",
    "    sim_scores = list(enumerate(cosine_sim[idx]))\n",
    "\n",
    "    # Sort the TV series based on the similarity scores\n",
    "    sim_scores = sorted(sim_scores, key=lambda x: x[1], reverse=True)\n",
    "\n",
    "    # Get the scores of the 10 most similar TV series\n",
    "    sim_scores = sim_scores[1:11]\n",
    "\n",
    "    # Get the TV series indices\n",
    "    tv_indices = [i[0] for i in sim_scores]\n",
    "\n",
    "    # Return the top 10 most similar TV series\n",
    "    return df['Title'].iloc[tv_indices]"
   ]
  },
  {
   "cell_type": "code",
   "execution_count": 27,
   "id": "98d31348",
   "metadata": {
    "execution": {
     "iopub.execute_input": "2024-06-09T17:45:55.935525Z",
     "iopub.status.busy": "2024-06-09T17:45:55.935110Z",
     "iopub.status.idle": "2024-06-09T17:45:55.944646Z",
     "shell.execute_reply": "2024-06-09T17:45:55.943473Z"
    },
    "papermill": {
     "duration": 0.024699,
     "end_time": "2024-06-09T17:45:55.946915",
     "exception": false,
     "start_time": "2024-06-09T17:45:55.922216",
     "status": "completed"
    },
    "tags": []
   },
   "outputs": [
    {
     "name": "stdout",
     "output_type": "stream",
     "text": [
      "348     Master of None\n",
      "680        Ally McBeal\n",
      "483          The Knick\n",
      "744          The Deuce\n",
      "316    Ginny & Georgia\n",
      "389       Chicago Fire\n",
      "58      Grey's Anatomy\n",
      "53            Seinfeld\n",
      "692         Broad City\n",
      "430        Derry Girls\n",
      "Name: Title, dtype: object\n"
     ]
    }
   ],
   "source": [
    "# Example usage\n",
    "print(get_recommendations('Friends'))"
   ]
  },
  {
   "cell_type": "code",
   "execution_count": null,
   "id": "b3fe684e",
   "metadata": {
    "papermill": {
     "duration": 0.011339,
     "end_time": "2024-06-09T17:45:55.969588",
     "exception": false,
     "start_time": "2024-06-09T17:45:55.958249",
     "status": "completed"
    },
    "tags": []
   },
   "outputs": [],
   "source": []
  }
 ],
 "metadata": {
  "kaggle": {
   "accelerator": "none",
   "dataSources": [
    {
     "datasetId": 5084753,
     "sourceId": 8516644,
     "sourceType": "datasetVersion"
    }
   ],
   "dockerImageVersionId": 30732,
   "isGpuEnabled": false,
   "isInternetEnabled": true,
   "language": "python",
   "sourceType": "notebook"
  },
  "kernelspec": {
   "display_name": "Python 3",
   "language": "python",
   "name": "python3"
  },
  "language_info": {
   "codemirror_mode": {
    "name": "ipython",
    "version": 3
   },
   "file_extension": ".py",
   "mimetype": "text/x-python",
   "name": "python",
   "nbconvert_exporter": "python",
   "pygments_lexer": "ipython3",
   "version": "3.10.13"
  },
  "papermill": {
   "default_parameters": {},
   "duration": 8.373746,
   "end_time": "2024-06-09T17:45:56.602581",
   "environment_variables": {},
   "exception": null,
   "input_path": "__notebook__.ipynb",
   "output_path": "__notebook__.ipynb",
   "parameters": {},
   "start_time": "2024-06-09T17:45:48.228835",
   "version": "2.5.0"
  }
 },
 "nbformat": 4,
 "nbformat_minor": 5
}
